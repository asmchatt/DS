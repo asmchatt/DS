{
 "cells": [
  {
   "cell_type": "code",
   "execution_count": 1,
   "metadata": {},
   "outputs": [],
   "source": [
    "# Web scraping crude oil news and using VADER for sentiment analysis"
   ]
  },
  {
   "cell_type": "code",
   "execution_count": 2,
   "metadata": {},
   "outputs": [],
   "source": [
    "# import necessary libraries\n",
    "import requests\n",
    "from bs4 import BeautifulSoup\n",
    "import pandas as pd\n",
    "from vaderSentiment.vaderSentiment import SentimentIntensityAnalyzer"
   ]
  },
  {
   "cell_type": "code",
   "execution_count": 3,
   "metadata": {},
   "outputs": [],
   "source": [
    "# Create lists to store scraped news urls, headlines and text\n",
    "url_list = []\n",
    "date_time = []## store the date and time of every news article\n",
    "news_text = []## text body in everu news artcie url \n",
    "headlines = [] ## headlines"
   ]
  },
  {
   "cell_type": "code",
   "execution_count": 4,
   "metadata": {},
   "outputs": [],
   "source": [
    "### we want to scrap first 3 pages \n",
    "for i in range(1,3): #parameters of range function correspond to page numbers in the website with news listings\n",
    "    #get the list of unique urls in the page\n",
    "    url = 'https://oilprice.com/Energy/Crude-Oil/Page-{}.html'.format(i)\n",
    "    request = requests.get(url)\n",
    "    soup = BeautifulSoup(request.text, \"html.parser\")\n",
    "    for links in soup.find_all('div', {'class': 'categoryArticle'}):\n",
    "        for info in links.find_all('a'):\n",
    "            if info.get('href') not in url_list:\n",
    "                url_list.append(info.get('href'))"
   ]
  },
  {
   "cell_type": "code",
   "execution_count": 5,
   "metadata": {},
   "outputs": [
    {
     "data": {
      "text/plain": [
       "['https://oilprice.com/Energy/Crude-Oil/Further-OPEC-Production-Cuts-Could-Be-Looming.html',\n",
       " 'https://oilprice.com/Energy/Crude-Oil/Can-Canada-Boost-Oil-Production-While-Reducing-Its-Emissions.html',\n",
       " 'https://oilprice.com/Energy/Crude-Oil/Why-The-Russian-Oil-Price-Cap-Wont-Work.html',\n",
       " 'https://oilprice.com/Energy/Crude-Oil/OPEC-Cuts-Production-Despite-Resistance-From-Russia.html',\n",
       " 'https://oilprice.com/Energy/Crude-Oil/Will-OPEC-Cut-Oil-Output-On-Labor-Day.html',\n",
       " 'https://oilprice.com/Energy/Crude-Oil/The-G7-Could-Finalize-Plans-For-A-Price-Cap-On-Russian-Oil-Today.html',\n",
       " 'https://oilprice.com/Energy/Crude-Oil/Offshore-Oil-And-Gas-Set-For-Robust-Growth.html',\n",
       " 'https://oilprice.com/Energy/Crude-Oil/95-Of-Production-At-Nigerias-Main-Oil-Hub-Is-Being-Stolen.html',\n",
       " 'https://oilprice.com/Energy/Crude-Oil/Russia-Exported-Record-Amounts-Of-Crude-In-August.html',\n",
       " 'https://oilprice.com/Energy/Crude-Oil/Oil-Prices-Climb-Higher-On-Larger-Than-Expected-Crude-Draw.html',\n",
       " 'https://oilprice.com/Energy/Crude-Oil/Is-Dodgy-Demand-Data-Driving-Oil-Prices-Lower.html',\n",
       " 'https://oilprice.com/Energy/Crude-Oil/Oil-Sinks-By-3-As-Economic-Slowdown-Fears-Weigh-On-Market.html',\n",
       " 'https://oilprice.com/Energy/Crude-Oil/Oil-Prices-Hit-104-On-New-Supply-Scare.html',\n",
       " 'https://oilprice.com/Energy/Crude-Oil/Texas-Gets-Government-Aid-To-Plug-Orphan-Oil-Wells.html',\n",
       " 'https://oilprice.com/Energy/Crude-Oil/The-Worlds-Energy-Problem-Is-Far-Worse-Than-Were-Being-Told.html',\n",
       " 'https://oilprice.com/Energy/Crude-Oil/OPECs-Complains-About-Volatility-But-Heres-What-They-Really-Want.html',\n",
       " 'https://oilprice.com/Energy/Crude-Oil/UAE-Likely-To-Support-OPEC-Oil-Production-Cuts.html',\n",
       " 'https://oilprice.com/Energy/Crude-Oil/Big-Oils-41-Billion-Buyback-Bonanza.html',\n",
       " 'https://oilprice.com/Energy/Crude-Oil/Does-China-Really-Control-Kazakhstans-Oil-And-Gas-Industry.html',\n",
       " 'https://oilprice.com/Energy/Crude-Oil/Saudi-Arabia-Is-Determined-Not-To-Waste-This-Oil-Boom.html',\n",
       " 'https://oilprice.com/Energy/Crude-Oil/Will-Oil-Prices-Head-Higher-In-2023.html',\n",
       " 'https://oilprice.com/Energy/Crude-Oil/4-Stocks-To-Play-The-Next-Rally-In-Oil.html',\n",
       " 'https://oilprice.com/Energy/Crude-Oil/Oil-Rally-Halts-Despite-Crude-Inventory-Draw.html',\n",
       " 'https://oilprice.com/Energy/Crude-Oil/Russia-Considers-Deeper-Oil-Discounts-To-Counter-US-Price-Cap-Push.html',\n",
       " 'https://oilprice.com/Energy/Crude-Oil/India-Ramps-Up-Saudi-Crude-Purchases-But-Its-Not-A-Gesture-To-Washington.html',\n",
       " 'https://oilprice.com/Energy/Crude-Oil/Whats-Behind-Buffetts-Renewed-Interest-In-Occidental.html',\n",
       " 'https://oilprice.com/Energy/Crude-Oil/Kazakhstan-Oil-Supply-Outage-To-Last-For-At-Least-A-Month.html',\n",
       " 'https://oilprice.com/Energy/Crude-Oil/Big-Tech-Is-Under-Pressure-To-Turn-Its-Back-On-Big-Oil.html',\n",
       " 'https://oilprice.com/Energy/Crude-Oil/OPEC-Is-Now-Almost-3-Million-Bpd-Behind-Its-Production-Target.html',\n",
       " 'https://oilprice.com/Energy/Crude-Oil/Iran-Starts-Drilling-At-Oil-Field-Shared-With-Saudi-Arabia.html',\n",
       " 'https://oilprice.com/Energy/Crude-Oil/High-Impact-Oil-And-Gas-Drilling-Is-Back.html',\n",
       " 'https://oilprice.com/Energy/Crude-Oil/How-Norway-Can-Expand-Its-Oil-Industry-And-Reduce-Emissions.html',\n",
       " 'https://oilprice.com/Energy/Crude-Oil/Venezuela-Halts-Oil-Shipments-To-Europe-Demands-New-Concessions.html',\n",
       " 'https://oilprice.com/Energy/Crude-Oil/Middle-East-Producers-Expect-To-Bank-Additional-13-Trillion-From-Oil-Exports.html',\n",
       " 'https://oilprice.com/Energy/Crude-Oil/OPEC-Sees-Robust-Oil-Demand-Despite-Sell-Off.html',\n",
       " 'https://oilprice.com/Energy/Crude-Oil/Goldman-Sachs-Less-Positive-About-Chinas-Economic-Growth.html',\n",
       " 'https://oilprice.com/Energy/Crude-Oil/Saudi-Aramco-Is-Taking-A-Page-Out-Of-The-US-Shale-Playbook.html',\n",
       " 'https://oilprice.com/Energy/Crude-Oil/Energy-Sanctions-On-Russia-Have-Been-A-Boon-For-China-And-India.html',\n",
       " 'https://oilprice.com/Energy/Crude-Oil/Oil-Jumps-On-Massive-Crude-Inventory-Draw.html',\n",
       " 'https://oilprice.com/Energy/Crude-Oil/US-Crude-Inventories-Fell-To-Lowest-Level-Since-2004-In-June.html']"
      ]
     },
     "execution_count": 5,
     "metadata": {},
     "output_type": "execute_result"
    }
   ],
   "source": [
    "url_list"
   ]
  },
  {
   "cell_type": "code",
   "execution_count": null,
   "metadata": {},
   "outputs": [],
   "source": [
    "www_test=url_list[0]\n",
    "www_test"
   ]
  },
  {
   "cell_type": "code",
   "execution_count": 6,
   "metadata": {},
   "outputs": [],
   "source": [
    "for www in url_list:\n",
    "    #access each url\n",
    "    headlines.append(www.split(\"/\")[-1].replace('-',' '))\n",
    "    request = requests.get(www)\n",
    "    soup = BeautifulSoup(request.text, \"html.parser\")\n",
    "    \n",
    "    #store date and time of publication of the article\n",
    "    for dates in soup.find_all('span', {'class': 'article_byline'}):\n",
    "        date_time.append(dates.text.split('-')[-1])\n",
    "    \n",
    "    #store the text of the news\n",
    "    temp = []\n",
    "    for news in soup.find_all('p'):\n",
    "            temp.append(news.text)\n",
    "    \n",
    "    #identify the last line of the news article\n",
    "    for last_sentence in reversed(temp):\n",
    "        if last_sentence.split(\" \")[0]==\"By\" and last_sentence.split(\" \")[-1]==\"Oilprice.com\":\n",
    "            break\n",
    "        elif last_sentence.split(\" \")[0]==\"By\":\n",
    "            break\n",
    "    \n",
    "    #prune non news related text from the scraped data to create the news text\n",
    "    joined_text = ' '.join(temp[temp.index(\"More Info\")+1:temp.index(last_sentence)])\n",
    "    news_text.append(joined_text)\n"
   ]
  },
  {
   "cell_type": "code",
   "execution_count": 1,
   "metadata": {},
   "outputs": [],
   "source": [
    "test_dict ={'neg': 0.0, 'neu': 0.267, 'pos': 0.733, 'compound': 0.6705}"
   ]
  },
  {
   "cell_type": "code",
   "execution_count": 2,
   "metadata": {},
   "outputs": [
    {
     "data": {
      "text/plain": [
       "dict_keys(['neg', 'neu', 'pos', 'compound'])"
      ]
     },
     "execution_count": 2,
     "metadata": {},
     "output_type": "execute_result"
    }
   ],
   "source": [
    "test_dict.keys()"
   ]
  },
  {
   "cell_type": "code",
   "execution_count": 3,
   "metadata": {},
   "outputs": [
    {
     "data": {
      "text/plain": [
       "0.6705"
      ]
     },
     "execution_count": 3,
     "metadata": {},
     "output_type": "execute_result"
    }
   ],
   "source": [
    "test_dict['compound']"
   ]
  },
  {
   "cell_type": "code",
   "execution_count": null,
   "metadata": {},
   "outputs": [],
   "source": []
  }
 ],
 "metadata": {
  "interpreter": {
   "hash": "61eee1b10eafb721081ebfd5dd53c1b8bdcccddca43d7f5d72aa3bea94a5c89c"
  },
  "kernelspec": {
   "display_name": "Python 3.6.7 64-bit",
   "language": "python",
   "name": "python3"
  },
  "language_info": {
   "codemirror_mode": {
    "name": "ipython",
    "version": 3
   },
   "file_extension": ".py",
   "mimetype": "text/x-python",
   "name": "python",
   "nbconvert_exporter": "python",
   "pygments_lexer": "ipython3",
   "version": "3.6.7"
  },
  "orig_nbformat": 4
 },
 "nbformat": 4,
 "nbformat_minor": 2
}
